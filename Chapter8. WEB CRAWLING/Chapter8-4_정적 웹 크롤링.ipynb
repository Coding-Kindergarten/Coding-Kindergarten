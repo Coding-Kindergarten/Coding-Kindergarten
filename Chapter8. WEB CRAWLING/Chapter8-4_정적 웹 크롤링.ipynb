{
 "cells": [
  {
   "cell_type": "code",
   "execution_count": 2,
   "metadata": {},
   "outputs": [],
   "source": [
    "# requests 패키지 가져오기\n",
    "import requests\n",
    "\n",
    "# 입력받은 키워드가 포함된 url 주소\n",
    "url = 'https://search.naver.com/search.naver?where=news&sm=tab_jum&query=월드컵'\n",
    "\n",
    "# requests의 get함수를 이용해 해당 url로 부터 html이 담긴 자료를 받아옴\n",
    "response = requests.get(url)\n",
    "\n",
    "# 얻고자 하는 html 문서가 여기에 담기게 됨\n",
    "html_text = response.text"
   ]
  },
  {
   "cell_type": "code",
   "execution_count": 3,
   "metadata": {},
   "outputs": [],
   "source": [
    "# BeautifulSoup 패키지 불러오기\n",
    "from bs4 import BeautifulSoup as bs\n",
    "\n",
    "# html을 잘 정리된 형태로 변환\n",
    "html = bs(html_text, 'html.parser')"
   ]
  },
  {
   "cell_type": "code",
   "execution_count": 4,
   "metadata": {},
   "outputs": [
    {
     "name": "stdout",
     "output_type": "stream",
     "text": [
      "[속보] 문체부 \"17일까지 서울월드컵경기장 잔디 긴급 복구\"\n",
      "[여자월드컵] 역대급 흥행에 자신감 얻은 뉴질랜드 \"남자 대회 공동개최 도전...\n",
      "스페인, 스웨덴 2-1로 꺾고 사상 첫 여자월드컵 결승\n",
      "여자월드컵 평균 3만 관중 눈앞…현재 2만 8천900명 입장\n",
      "'여자 월드컵 8강' 이끈 콜롬비아 축구선수의 남동생, 총격에 사망\n",
      "‘엘 클라시코’ 신성들이 해냈다…스페인, 사상 첫 월드컵 결승행\n",
      "한국, 테니스 월드컵서 세계 최강 알카라스·조코비치 격돌\n",
      "현대자동차, '2023 FIFA 호주/뉴질랜드 여자 월드컵' 캠페인 선봬\n",
      "FIFA ‘레거시 워킹 그룹’, 여자 월드컵 개최국에 미치는 영향 분석\n",
      "사우디로 향하는 네이마르, 그의 계획은 2년 뒤 유럽 복귀...북중미 월드컵 '...\n"
     ]
    }
   ],
   "source": [
    "# 뉴스 제목 텍스트 추출\n",
    "    \n",
    "news_titles = html.select(\"a.news_tit\")\n",
    "\n",
    "for i in news_titles:\n",
    "    title = i.get_text()\n",
    "    print(title)"
   ]
  },
  {
   "cell_type": "code",
   "execution_count": 5,
   "metadata": {},
   "outputs": [
    {
     "name": "stdout",
     "output_type": "stream",
     "text": [
      "https://www.busan.com/view/busan/view.php?code=2023081512323387996\n",
      "https://www.yna.co.kr/view/AKR20230815050700007?input=1195m\n",
      "http://www.newsis.com/view/?id=NISX20230815_0002414411&cID=10523&pID=10500\n",
      "https://news.sbs.co.kr/news/endPage.do?news_id=N1007308591&plink=ORI&cooper=NAVER\n",
      "https://www.news1.kr/articles/5140977\n",
      "https://www.hani.co.kr/arti/sports/soccer/1104435.html\n",
      "https://news.jtbc.co.kr/article/article.aspx?news_id=NB12139783\n",
      "http://www.wowtv.co.kr/NewsCenter/News/Read?articleId=A202308140248&t=NN\n",
      "https://www.goal.com/kr/뉴스/a/bltfc0b4ec7511aa98f\n",
      "http://www.osen.co.kr/article/G1112163747\n"
     ]
    }
   ],
   "source": [
    "# 뉴스 하이퍼링크 추출\n",
    "\n",
    "for i in news_titles:\n",
    "    href = i.attrs['href']\n",
    "    print(href)"
   ]
  },
  {
   "cell_type": "code",
   "execution_count": 6,
   "metadata": {},
   "outputs": [],
   "source": [
    "# 뉴스 썸네일 이미지 추출\n",
    "import os\n",
    "\n",
    "news_content_div = html.select(".news_contents")\n",
    "news_thumbnail = [thumbnail.select_one(".thumb") for thumbnail in news_content_div]",
    "link_thumbnail = []\n",
    "\n",
    "for img in news_thumbnail:\n",
    "    if img is not None and 'data-lazysrc' in img.attrs:
    "        link_thumbnail.append(img.attrs['data-lazysrc'])\n",
    "\n",
    "# 이미지 저장할 폴더 생성\n",
    "path_folder = '/Users/sangwoo/Desktop/img_download/'\n",
    "\n",
    "# 폴더가 없으면 폴더 생성\n",
    "if not os.path.isdir(path_folder):\n",
    "    os.mkdir(path_folder)\n",
    "\n",
    "# 이미지 다운로드\n",
    "from urllib.request import urlretrieve\n",
    "i = 0\n",
    "for link in link_thumbnail:          \n",
    "    i += 1\n",
    "    urlretrieve(link, path_folder + f'{i}.jpg')\n",
    "    #link에서 이미지 다운로드, './imgs/'에 파일명은 index와 확장자명으로"
   ]
  },
  {
   "cell_type": "code",
   "execution_count": null,
   "metadata": {},
   "outputs": [],
   "source": []
  }
 ],
 "metadata": {
  "kernelspec": {
   "display_name": "Python 3",
   "language": "python",
   "name": "python3"
  },
  "language_info": {
   "codemirror_mode": {
    "name": "ipython",
    "version": 3
   },
   "file_extension": ".py",
   "mimetype": "text/x-python",
   "name": "python",
   "nbconvert_exporter": "python",
   "pygments_lexer": "ipython3",
   "version": "3.11.2"
  },
  "orig_nbformat": 4
 },
 "nbformat": 4,
 "nbformat_minor": 2
}
