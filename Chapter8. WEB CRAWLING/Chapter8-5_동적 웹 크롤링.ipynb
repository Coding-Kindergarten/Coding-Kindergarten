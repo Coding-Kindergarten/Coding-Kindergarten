{
 "cells": [
  {
   "cell_type": "code",
   "execution_count": 2,
   "metadata": {},
   "outputs": [
    {
     "name": "stderr",
     "output_type": "stream",
     "text": [
      "[WDM] - Downloading: 100%|██████████| 6.30M/6.30M [00:00<00:00, 7.86MB/s]\n"
     ]
    }
   ],
   "source": [
    "from selenium import webdriver #셀레니움 웹드라이버 제어 모듈\n",
    "from selenium.webdriver.common.by import By  #HTML 인덱싱을 위한 클래스\n",
    "import time #시간 지연을 위한 모듈\n",
    "\n",
    "#크롬 드라이버 실행\n",
    "driver = webdriver.Chrome()\n",
    "\n",
    "#크롬 드라이버에 url 입력 및 페이지 이동\n",
    "driver.get('https://news.naver.com/')\n",
    "time.sleep(2)\n"
   ]
  },
  {
   "cell_type": "code",
   "execution_count": 3,
   "metadata": {},
   "outputs": [],
   "source": [
    "#돋보기 버튼 인덱싱\n",
    "btn_search = driver.find_element(By.CLASS_NAME, 'Ntool_button._search_content_toggle_btn')\n",
    "\n",
    "#인덱싱한 요소 클릭\n",
    "btn_search.click()"
   ]
  },
  {
   "cell_type": "code",
   "execution_count": 4,
   "metadata": {},
   "outputs": [],
   "source": [
    "#검색어 입력창 인덱싱\n",
    "box_search = driver.find_element(By.CSS_SELECTOR, 'input.u_it._search_input')\n",
    "\n",
    "#검색어 입력\n",
    "box_search.send_keys('파이썬')"
   ]
  },
  {
   "cell_type": "code",
   "execution_count": 5,
   "metadata": {},
   "outputs": [],
   "source": [
    "from selenium.webdriver.common.keys import Keys\n",
    "\n",
    "# 엔터키 입력\n",
    "box_search.send_keys(Keys.ENTER)    "
   ]
  },
  {
   "cell_type": "code",
   "execution_count": 6,
   "metadata": {},
   "outputs": [
    {
     "name": "stdout",
     "output_type": "stream",
     "text": [
      "현재 탭 (switch 전):  E2C0EF978037C69C8F8113432C8E9D63\n",
      "현재 탭 (switch 후):  80430FDFF32F84D92F2C8F7698AE71A2\n"
     ]
    }
   ],
   "source": [
    "tab_1st = driver.window_handles[0]\n",
    "tab_2nd = driver.window_handles[1]\n",
    "\n",
    "print(\"현재 탭 (switch 전): \", driver.current_window_handle)\n",
    "\n",
    "# 두번째 탭으로 창 변경\n",
    "driver.switch_to.window(tab_2nd)\n",
    "\n",
    "print(\"현재 탭 (switch 후): \", driver.current_window_handle)"
   ]
  },
  {
   "cell_type": "code",
   "execution_count": 7,
   "metadata": {},
   "outputs": [
    {
     "name": "stdout",
     "output_type": "stream",
     "text": [
      "왜 개발자들은 파이썬을 선호할까 [IT백과]\n",
      "KSTEC, 파이썬 컨퍼런스 '파이콘 코리아 2023' 공식 후원\n",
      "이젠아카데미, 피그마·파이썬 국비지원 교육과정 수강생 모집\n",
      "㈜제타데이터 홍용기 대표, 용산여성인력개발센터의 '빅데이터분석을 위한 파...\n",
      "파이썬에서 GIL 삭제된다⋯“병렬 처리의 혁신적 진전”\n",
      "파이썬 3.12 베타 버전 공개…성능·효율성 개선\n",
      "줄리아, 티오베 지수 20위권 첫 진입…파이썬 1위\n",
      "파이콘 코리아, 4년만에 오프라인 개최…파이썬 사용자 모인다\n",
      "금투협, ‘파이썬 입문과 금융 모델링 실습’ 과정 개설\n",
      "“더 쉽고 빠른 파이썬” 파이파이(PyPy)의 이해\n"
     ]
    }
   ],
   "source": [
    "# 뉴스 제목 추출\n",
    "news_titles = driver.find_elements(By.CLASS_NAME, 'news_tit')\n",
    "\n",
    "for i in news_titles:\n",
    "    title = i.text\n",
    "    print(title)"
   ]
  },
  {
   "cell_type": "code",
   "execution_count": 8,
   "metadata": {},
   "outputs": [
    {
     "name": "stdout",
     "output_type": "stream",
     "text": [
      "https://www.ddaily.co.kr/page/view/2023081311274732209\n",
      "https://www.datanet.co.kr/news/articleView.html?idxno=186118\n",
      "http://www.it-b.co.kr/news/articleView.html?idxno=69889\n",
      "http://www.fntoday.co.kr/news/articleView.html?idxno=298131\n",
      "https://www.itworld.co.kr/news/302737\n",
      "https://www.ddaily.co.kr/page/view/2023080913244163678\n",
      "https://www.ddaily.co.kr/page/view/2023080910245015983\n",
      "https://www.ddaily.co.kr/page/view/2023080709381739511\n",
      "https://www.dailian.co.kr/news/view/1259905/?sc=Naver\n",
      "https://www.itworld.co.kr/news/302293\n"
     ]
    }
   ],
   "source": [
    "# 뉴스 하이퍼링크 추출\n",
    "\n",
    "for i in news_titles:\n",
    "    href = i.get_attribute('href')\n",
    "    print(href)"
   ]
  },
  {
   "cell_type": "code",
   "execution_count": 9,
   "metadata": {},
   "outputs": [],
   "source": [
    "#뉴스 썸네일 이미지 다운로드\n",
    "\n",
    "news_thumbnail = driver.find_elements(By.CLASS_NAME, \"thumb.api_get\")\n",
    "link_thumbnail = []\n",
    "\n",
    "for img in news_thumbnail:\n",
    "    # link_thumbnail.append(img.attrs['src'])  → 원래 작동했으나 2022년 12월 기준 작동 X\n",
    "    link_thumbnail.append(img.get_attribute('src'))\n",
    "\n",
    "# 이미지 저장할 폴더 생성\n",
    "import os\n",
    "\n",
    "# path_folder의 경로는 각자 저장할 폴더의 경로를 적어줄 것\n",
    "path_folder = '/Users/sangwoo/Desktop/img_download2/'\n",
    "\n",
    "if not os.path.isdir(path_folder):\n",
    "    os.mkdir(path_folder)\n",
    "\n",
    "# 이미지 다운로드\n",
    "from urllib.request import urlretrieve\n",
    "i = 0\n",
    "for link in link_thumbnail:          \n",
    "    i += 1\n",
    "    urlretrieve(link, path_folder + f'{i}.jpg')\n",
    "    #link에서 이미지 다운로드, './imgs/'에 파일명은 index와 확장자명으로\n"
   ]
  },
  {
   "cell_type": "code",
   "execution_count": null,
   "metadata": {},
   "outputs": [],
   "source": []
  }
 ],
 "metadata": {
  "kernelspec": {
   "display_name": "Python 3",
   "language": "python",
   "name": "python3"
  },
  "language_info": {
   "codemirror_mode": {
    "name": "ipython",
    "version": 3
   },
   "file_extension": ".py",
   "mimetype": "text/x-python",
   "name": "python",
   "nbconvert_exporter": "python",
   "pygments_lexer": "ipython3",
   "version": "3.11.2"
  },
  "orig_nbformat": 4
 },
 "nbformat": 4,
 "nbformat_minor": 2
}
